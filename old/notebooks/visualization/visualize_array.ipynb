{
 "cells": [
  {
   "cell_type": "code",
   "execution_count": null,
   "metadata": {},
   "outputs": [],
   "source": [
    "file = ''"
   ]
  },
  {
   "cell_type": "code",
   "execution_count": null,
   "metadata": {},
   "outputs": [],
   "source": [
    "import numpy as np\n",
    "from matplotlib import pyplot as plt\n",
    "from matplotlib import patches\n",
    "\n",
    "from cnld import abstract\n",
    "\n",
    "array = abstract.load(file)\n",
    "\n",
    "fig, ax = plt.subplots(figsize=(9,9))\n",
    "\n",
    "for elem in array.elements:\n",
    "    for mem in elem.membranes:\n",
    "        if mem.shape.lower() in ['circle', 'circular', 'c']:\n",
    "            patch = patches.Circle(radius=mem.radius, xy=(mem.position[0], mem.position[1]), ec='black', fill=False)\n",
    "        elif mem.shape.lower() in ['square', 's']:\n",
    "            patch = patches.Rectangle(width=mem.length_x, height=mem.length_y, xy=(mem.position[0], mem.position[1]), \n",
    "                                      ec='black', fill=False)\n",
    "        ax.add_patch(patch)\n",
    "        \n",
    "ax.set_aspect('equal')\n",
    "ax.autoscale()\n",
    "ax.set_xlabel('X (m)')\n",
    "ax.set_ylabel('Y (m)')\n",
    "ax.set_title('Array membrane geometry')\n",
    "\n",
    "fig, ax = plt.subplots(figsize=(9,9))\n",
    "\n",
    "for elem in array.elements:\n",
    "    for mem in elem.membranes:\n",
    "        for pat in mem.patches:\n",
    "            if mem.shape.lower() in ['circle', 'circular', 'c']:\n",
    "       \n",
    "                arc1 = patches.Arc(width=2*pat.radius_max, height=2*pat.radius_max, xy=(pat.position[0], pat.position[1]),\n",
    "                               angle=0, theta1=np.rad2deg(pat.theta_min), theta2=np.rad2deg(pat.theta_max), \n",
    "                                ec='black', lw=1)\n",
    "                ax.add_patch(arc1)\n",
    "                \n",
    "                x0 = pat.position[0] + pat.radius_min * np.cos(pat.theta_min)\n",
    "                y0 = pat.position[1] + pat.radius_min * np.sin(pat.theta_min)\n",
    "                x1 = pat.position[0] + pat.radius_max * np.cos(pat.theta_min)\n",
    "                y1 = pat.position[1] + pat.radius_max * np.sin(pat.theta_min)\n",
    "                line0 = plt.Line2D([x0, x1], [y0, y1], c='black', lw=1)\n",
    "                ax.add_artist(line0)\n",
    "            \n",
    "            elif mem.shape.lower() in ['square', 's']:\n",
    "                \n",
    "                patch = patches.Rectangle(width=pat.length_x, height=pat.length_y, xy=(pat.position[0], pat.position[1]), \n",
    "                                          ec='black', fill=False)\n",
    "                ax.add_patch(patch)\n",
    "\n",
    "ax.set_aspect('equal')\n",
    "ax.autoscale()\n",
    "ax.set_xlabel('X (m)')\n",
    "ax.set_ylabel('Y (m)')\n",
    "ax.set_title('Array patch geometry');"
   ]
  }
 ],
 "metadata": {
  "kernelspec": {
   "display_name": "Python 3",
   "language": "python",
   "name": "python3"
  },
  "language_info": {
   "codemirror_mode": {
    "name": "ipython",
    "version": 3
   },
   "file_extension": ".py",
   "mimetype": "text/x-python",
   "name": "python",
   "nbconvert_exporter": "python",
   "pygments_lexer": "ipython3",
   "version": "3.7.4"
  }
 },
 "nbformat": 4,
 "nbformat_minor": 4
}
