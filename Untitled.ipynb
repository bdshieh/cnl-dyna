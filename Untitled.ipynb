{
 "cells": [
  {
   "cell_type": "code",
   "execution_count": 1,
   "metadata": {},
   "outputs": [],
   "source": [
    "from cnld.api import layout\n",
    "\n",
    "lay = layout.matrix_layout(2, 2, 100e-6, 100e-6, shape='square', \n",
    "                           lengthx=35e-6, lengthy=35e-6)"
   ]
  },
  {
   "cell_type": "code",
   "execution_count": 8,
   "metadata": {},
   "outputs": [
    {
     "data": {
      "text/plain": [
       "'[{\"id\": 0, \"position\": [-5e-05, -5e-05, 0.0], \"shape\": \"square\", \"lengthx\": 3.5e-05, \"lengthy\": 3.5e-05, \"radius\": null}, {\"id\": 1, \"position\": [5e-05, -5e-05, 0.0], \"shape\": \"square\", \"lengthx\": 3.5e-05, \"lengthy\": 3.5e-05, \"radius\": null}, {\"id\": 2, \"position\": [-5e-05, 5e-05, 0.0], \"shape\": \"square\", \"lengthx\": 3.5e-05, \"lengthy\": 3.5e-05, \"radius\": null}, {\"id\": 3, \"position\": [5e-05, 5e-05, 0.0], \"shape\": \"square\", \"lengthx\": 3.5e-05, \"lengthy\": 3.5e-05, \"radius\": null}]'"
      ]
     },
     "execution_count": 8,
     "metadata": {},
     "output_type": "execute_result"
    }
   ],
   "source": [
    "lay._data\n",
    "lay.json"
   ]
  },
  {
   "cell_type": "code",
   "execution_count": 7,
   "metadata": {},
   "outputs": [
    {
     "data": {
      "text/plain": [
       "[{'id': 0,\n",
       "  'position': [-5e-05, -5e-05, 0.0],\n",
       "  'shape': 'square',\n",
       "  'lengthx': 3.5e-05,\n",
       "  'lengthy': 3.5e-05,\n",
       "  'radius': None},\n",
       " {'id': 1,\n",
       "  'position': [5e-05, -5e-05, 0.0],\n",
       "  'shape': 'square',\n",
       "  'lengthx': 3.5e-05,\n",
       "  'lengthy': 3.5e-05,\n",
       "  'radius': None},\n",
       " {'id': 2,\n",
       "  'position': [-5e-05, 5e-05, 0.0],\n",
       "  'shape': 'square',\n",
       "  'lengthx': 3.5e-05,\n",
       "  'lengthy': 3.5e-05,\n",
       "  'radius': None},\n",
       " {'id': 3,\n",
       "  'position': [5e-05, 5e-05, 0.0],\n",
       "  'shape': 'square',\n",
       "  'lengthx': 3.5e-05,\n",
       "  'lengthy': 3.5e-05,\n",
       "  'radius': None}]"
      ]
     },
     "execution_count": 7,
     "metadata": {},
     "output_type": "execute_result"
    }
   ],
   "source": [
    "import json\n",
    "json.loads(json.dumps([v._asdict() for v in lay._data]))\n"
   ]
  },
  {
   "cell_type": "code",
   "execution_count": null,
   "metadata": {},
   "outputs": [],
   "source": [
    "\n"
   ]
  },
  {
   "cell_type": "code",
   "execution_count": null,
   "metadata": {},
   "outputs": [],
   "source": []
  }
 ],
 "metadata": {
  "kernelspec": {
   "display_name": "Python 3",
   "language": "python",
   "name": "python3"
  },
  "language_info": {
   "codemirror_mode": {
    "name": "ipython",
    "version": 3
   },
   "file_extension": ".py",
   "mimetype": "text/x-python",
   "name": "python",
   "nbconvert_exporter": "python",
   "pygments_lexer": "ipython3",
   "version": "3.7.7"
  }
 },
 "nbformat": 4,
 "nbformat_minor": 4
}
