{
 "metadata": {
  "language_info": {
   "codemirror_mode": {
    "name": "ipython",
    "version": 3
   },
   "file_extension": ".py",
   "mimetype": "text/x-python",
   "name": "python",
   "nbconvert_exporter": "python",
   "pygments_lexer": "ipython3",
   "version": "3.9.2-final"
  },
  "orig_nbformat": 2,
  "kernelspec": {
   "name": "python3",
   "display_name": "Python 3.9.2 64-bit ('cnl-dyna': conda)",
   "metadata": {
    "interpreter": {
     "hash": "d7e500d460a3384bd0ef249cab0644d344bde9b6a7913be4dbbc3dd315d96ff6"
    }
   }
  }
 },
 "nbformat": 4,
 "nbformat_minor": 2,
 "cells": [
  {
   "cell_type": "code",
   "execution_count": 1,
   "metadata": {},
   "outputs": [],
   "source": [
    "''''''\n",
    "import numpy as np\n",
    "from matplotlib import pyplot as plt\n",
    "from cnld.api import *\n",
    "from cnld import fem, bem, util\n",
    "\n",
    "%matplotlib qt\n",
    "\n",
    "geom = define.circular_cmut_1mhz_geometry()\n",
    "# print(geom)\n",
    "\n",
    "layout = define.matrix_layout(nx=1, ny=1, pitch_x=100e-6, pitch_y=100e-6)\n",
    "layout.geometries.append(geom)\n",
    "layout.controldomains = define.generate_controldomainlist(layout)\n",
    "\n",
    "grids = grid.generate_grids_from_layout(layout, refn=9)\n",
    "# grids.bem.plot()\n",
    "\n"
   ]
  },
  {
   "cell_type": "code",
   "execution_count": 2,
   "metadata": {},
   "outputs": [
    {
     "output_type": "display_data",
     "data": {
      "text/plain": "Running:   0%|          | 0/100 [00:00<?, ?it/s]",
      "application/vnd.jupyter.widget-view+json": {
       "version_major": 2,
       "version_minor": 0,
       "model_id": "235eb96c13ce49d0a316e028e4251b06"
      }
     },
     "metadata": {}
    }
   ],
   "source": [
    "dbsolver = solve.DatabaseSolver('single_circular_cmut_1mhz.db', freq_interp=4, overwrite=False)\n",
    "dbsolver.layout = layout\n",
    "dbsolver.grids = grids\n",
    "dbsolver.freqs = 0, 50e6, 500e3\n",
    "\n",
    "\n",
    "dbsolver.solve()"
   ]
  },
  {
   "cell_type": "code",
   "execution_count": 10,
   "metadata": {},
   "outputs": [
    {
     "output_type": "display_data",
     "data": {
      "text/plain": "0it [00:00, ?it/s]",
      "application/vnd.jupyter.widget-view+json": {
       "version_major": 2,
       "version_minor": 0,
       "model_id": "019d8d6f80d14416b3fead07e3541eba"
      }
     },
     "metadata": {}
    }
   ],
   "source": [
    "from tqdm.notebook import tqdm\n",
    "\n",
    "pulse, _ = util.gausspulse(1e6, 0.25, fs=250e6)\n",
    "pulse *= 10\n",
    "transmit = define.Transmit()\n",
    "transmit.waveforms.append(define.Waveform(voltage=pulse))\n",
    "transmit.fs = 250e6\n",
    "\n",
    "n = 1\n",
    "vmax = np.max(pulse)\n",
    "e_0 = 8.85418782e-12\n",
    "pmax = e_0 / 2 * vmax**2 / (geom.gap / geom.eps_r)**2 * 2\n",
    "k = pmax / (1e-9)**n\n",
    "lmda = 3 / 2 * k * 1\n",
    "\n",
    "geom.contact_k = k\n",
    "geom.contact_n = n\n",
    "geom.contact_z0 = -geom.gap\n",
    "geom.contact_lmda = lmda\n",
    "layout.geometries = define.GeometryList([geom])\n",
    "\n",
    "tsolver = solve.TimeSolver()\n",
    "tsolver.layout = layout\n",
    "tsolver.transmit = transmit\n",
    "tsolver.dbfile = 'single_circular_cmut_1mhz.db'\n",
    "tsolver.times = 0, 10e-6, 1e-9\n",
    "\n",
    "tsolver.recalculate_fir(interp=16)\n",
    "tsolver.setup()\n",
    "for i in tqdm(tsolver):\n",
    "    pass"
   ]
  },
  {
   "cell_type": "code",
   "execution_count": 11,
   "metadata": {},
   "outputs": [
    {
     "output_type": "execute_result",
     "data": {
      "text/plain": [
       "[<matplotlib.lines.Line2D at 0x7fe5217399a0>,\n",
       " <matplotlib.lines.Line2D at 0x7fe521739a00>,\n",
       " <matplotlib.lines.Line2D at 0x7fe521739ac0>,\n",
       " <matplotlib.lines.Line2D at 0x7fe521739b80>,\n",
       " <matplotlib.lines.Line2D at 0x7fe521739c40>,\n",
       " <matplotlib.lines.Line2D at 0x7fe521739d00>,\n",
       " <matplotlib.lines.Line2D at 0x7fe521739dc0>,\n",
       " <matplotlib.lines.Line2D at 0x7fe521739e80>,\n",
       " <matplotlib.lines.Line2D at 0x7fe521739f40>,\n",
       " <matplotlib.lines.Line2D at 0x7fe549666040>,\n",
       " <matplotlib.lines.Line2D at 0x7fe549498820>,\n",
       " <matplotlib.lines.Line2D at 0x7fe549666100>]"
      ]
     },
     "metadata": {},
     "execution_count": 11
    }
   ],
   "source": [
    "plt.plot(tsolver.displacement)"
   ]
  },
  {
   "cell_type": "code",
   "execution_count": 22,
   "metadata": {},
   "outputs": [
    {
     "output_type": "execute_result",
     "data": {
      "text/plain": [
       "(0.0, 50.0)"
      ]
     },
     "metadata": {},
     "execution_count": 22
    }
   ],
   "source": [
    "from scipy import fftpack\n",
    "import scipy as sp\n",
    "\n",
    "def qfft(s, n=None, fs=1, axis=-1, full=False):\n",
    "\n",
    "    ndim = s.ndim\n",
    "    shape = s.shape\n",
    "    nsample = shape[axis]\n",
    "\n",
    "    if n is None:\n",
    "        n = nsample\n",
    "\n",
    "    if n > nsample:\n",
    "        pw = [(0, 0)] * ndim\n",
    "        pw[axis] = (0, n - nsample)\n",
    "        s = np.pad(s, pw, mode='constant')\n",
    "    elif n < nsample:\n",
    "        s = np.take(s, range(n), axis=axis)\n",
    "\n",
    "    ft = sp.fftpack.fft(s, axis=axis)\n",
    "    freqs = sp.fftpack.fftfreq(n, 1 / fs)\n",
    "\n",
    "    cutoff = (n + 1) // 2\n",
    "\n",
    "    if full:\n",
    "        return freqs, ft\n",
    "    else:\n",
    "        return freqs[:cutoff], np.take(ft, range(cutoff), axis=axis)\n",
    "\n",
    "\n",
    "def qesd(s, n=None, fs=1, axis=-1, win=None):\n",
    "    if win is None:\n",
    "        win = np.ones(s.shape[axis])\n",
    "\n",
    "    dims = np.ones(s.ndim, int)\n",
    "    dims[axis] = -1\n",
    "    win = win.reshape(dims)\n",
    "\n",
    "    freqs, ft = qfft(s * win, n=n, fs=fs, full=False, axis=axis)\n",
    "    return freqs, np.abs(ft)**2 * 2 / fs**2\n",
    "\n",
    "fir = tsolver._fir\n",
    "fir_t = tsolver._fir_t\n",
    "\n",
    "fs = 1 / (fir_t[1] - fir_t[0])\n",
    "freqs, esd = qesd(fir[0,0, :], n=4096, fs=fs)\n",
    "\n",
    "plt.plot(freqs / 1e6, 10 * np.log10(esd / esd.max()))\n",
    "plt.xlim(0, 50)"
   ]
  },
  {
   "cell_type": "code",
   "execution_count": 28,
   "metadata": {},
   "outputs": [
    {
     "output_type": "execute_result",
     "data": {
      "text/plain": [
       "(0.0, 50.0)"
      ]
     },
     "metadata": {},
     "execution_count": 28
    }
   ],
   "source": [
    "from cnld import database\n",
    "\n",
    "freqs, ppfr = database.read_patch_to_patch_freq_resp('single_circular_cmut_1mhz.db')\n",
    "\n",
    "fr = ppfr[0, 1, :]\n",
    "plt.plot(freqs / 1e6, 10 * np.log10(np.abs(fr) / np.abs(fr).max()), '.-')\n",
    "plt.xlim(0, 50)"
   ]
  },
  {
   "cell_type": "code",
   "execution_count": null,
   "metadata": {},
   "outputs": [],
   "source": []
  }
 ]
}