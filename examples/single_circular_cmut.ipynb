{
 "metadata": {
  "language_info": {
   "codemirror_mode": {
    "name": "ipython",
    "version": 3
   },
   "file_extension": ".py",
   "mimetype": "text/x-python",
   "name": "python",
   "nbconvert_exporter": "python",
   "pygments_lexer": "ipython3",
   "version": "3.9.2-final"
  },
  "orig_nbformat": 2,
  "kernelspec": {
   "name": "python3",
   "display_name": "Python 3.9.2 64-bit ('cnl-dyna': conda)",
   "metadata": {
    "interpreter": {
     "hash": "d7e500d460a3384bd0ef249cab0644d344bde9b6a7913be4dbbc3dd315d96ff6"
    }
   }
  }
 },
 "nbformat": 4,
 "nbformat_minor": 2,
 "cells": [
  {
   "cell_type": "code",
   "execution_count": 1,
   "metadata": {},
   "outputs": [],
   "source": [
    "''''''\n",
    "import numpy as np\n",
    "import scipy as sp\n",
    "import scipy.signal\n",
    "from tqdm import tqdm\n",
    "from matplotlib import pyplot as plt\n",
    "from cnld.api import *\n",
    "from cnld import fem, bem, util\n",
    "\n",
    "%matplotlib qt\n",
    "\n",
    "geom = define.circular_cmut_1mhz_geometry()\n",
    "geom.controldomain_nr = 3\n",
    "# geom.radius = 32e-6\n",
    "geom.controldomain_ntheta = 1\n",
    "geom.damping_ratio1 = 0.1\n",
    "geom.damping_ratio2 = 0.1\n",
    "# print(geom)\n",
    "\n",
    "# layout = define.matrix_layout(nx=1, ny=1, pitch_x=100e-6, pitch_y=100e-6)\n",
    "layout = define.hexagonal_layout(nx=3, ny=3, pitch=74e-6, radius=100e-6)\n",
    "layout.geometries.append(geom)\n",
    "layout.controldomains = define.generate_controldomainlist(layout)\n",
    "\n",
    "grids = grid.generate_grids_from_layout(layout, refn=9)\n",
    "grids.bem.plot()"
   ]
  },
  {
   "cell_type": "code",
   "execution_count": 2,
   "metadata": {},
   "outputs": [
    {
     "output_type": "stream",
     "name": "stderr",
     "text": [
      "Running: 100%|██████████| 200/200 [1:19:40<00:00, 23.90s/it]\n"
     ]
    }
   ],
   "source": [
    "dbsolver = solve.DatabaseSolver('circular_cmut_1mhz_hexagonal.db', freq_interp=4, overwrite=True)\n",
    "dbsolver.layout = layout\n",
    "dbsolver.grids = grids\n",
    "dbsolver.freqs = 0, 20e6, 100e3\n",
    "\n",
    "dbsolver.solve()"
   ]
  },
  {
   "cell_type": "code",
   "execution_count": 24,
   "metadata": {},
   "outputs": [
    {
     "output_type": "stream",
     "name": "stderr",
     "text": [
      "  0%|          | 0/4999 [00:00<?, ?it/s]13834668468749.998\n",
      "5000it [00:04, 1016.45it/s]                         \n"
     ]
    },
    {
     "output_type": "execute_result",
     "data": {
      "text/plain": [
       "[<matplotlib.lines.Line2D at 0x7fc46ee69c70>]"
      ]
     },
     "metadata": {},
     "execution_count": 24
    }
   ],
   "source": [
    "fs = 40e6\n",
    "_, vdc = define.linear_ramp(2e-6, 1 / fs)\n",
    "vdc *= 30\n",
    "pulse, _ = util.gausspulse(2e6, 0.25, fs=fs)\n",
    "pulse *= 30\n",
    "\n",
    "v = np.concatenate((vdc, pulse + 30))\n",
    "\n",
    "transmit = define.Transmit()\n",
    "transmit.waveforms.append(define.Waveform(voltage=v))\n",
    "transmit.fs = fs\n",
    "\n",
    "n = 1\n",
    "vmax = np.max(v)\n",
    "e_0 = 8.85418782e-12\n",
    "pmax = e_0 / 2 * 50**2 / (geom.gap / geom.eps_r)**2 * 2\n",
    "k = pmax / (10e-9)**n / 100\n",
    "print(k)\n",
    "lmda = 3 / 2 * k * 0.0\n",
    "\n",
    "geom.contact_k = k\n",
    "geom.contact_n = n\n",
    "geom.contact_z0 = -geom.gap\n",
    "geom.contact_lmda = lmda\n",
    "layout.geometries = define.GeometryList([geom])\n",
    "\n",
    "tsolver = solve.TimeSolver()\n",
    "tsolver.layout = layout\n",
    "tsolver.transmit = transmit\n",
    "tsolver.dbfile = 'single_circular_cmut_5mhz.db'\n",
    "tsolver.times = 0, 20e-6, 4e-9\n",
    "\n",
    "# tsolver.recalculate_fir(interp=4)\n",
    "tsolver.setup()\n",
    "for i in tqdm(tsolver, total=len(tsolver._solver)):\n",
    "    pass\n",
    "\n",
    "plt.plot(np.mean(tsolver.displacement, axis=1))"
   ]
  },
  {
   "cell_type": "code",
   "execution_count": 27,
   "metadata": {},
   "outputs": [
    {
     "output_type": "execute_result",
     "data": {
      "text/plain": [
       "[<matplotlib.lines.Line2D at 0x7fc46e8761c0>,\n",
       " <matplotlib.lines.Line2D at 0x7fc46e8763a0>,\n",
       " <matplotlib.lines.Line2D at 0x7fc46e876160>]"
      ]
     },
     "metadata": {},
     "execution_count": 27
    }
   ],
   "source": [
    "plt.plot(tsolver.displacement)"
   ]
  },
  {
   "cell_type": "code",
   "execution_count": 28,
   "metadata": {},
   "outputs": [
    {
     "output_type": "execute_result",
     "data": {
      "text/plain": [
       "(0.0, 50.0)"
      ]
     },
     "metadata": {},
     "execution_count": 28
    }
   ],
   "source": [
    "from scipy import fftpack\n",
    "import scipy as sp\n",
    "\n",
    "def qfft(s, n=None, fs=1, axis=-1, full=False):\n",
    "\n",
    "    ndim = s.ndim\n",
    "    shape = s.shape\n",
    "    nsample = shape[axis]\n",
    "\n",
    "    if n is None:\n",
    "        n = nsample\n",
    "\n",
    "    if n > nsample:\n",
    "        pw = [(0, 0)] * ndim\n",
    "        pw[axis] = (0, n - nsample)\n",
    "        s = np.pad(s, pw, mode='constant')\n",
    "    elif n < nsample:\n",
    "        s = np.take(s, range(n), axis=axis)\n",
    "\n",
    "    ft = sp.fftpack.fft(s, axis=axis)\n",
    "    freqs = sp.fftpack.fftfreq(n, 1 / fs)\n",
    "\n",
    "    cutoff = (n + 1) // 2\n",
    "\n",
    "    if full:\n",
    "        return freqs, ft\n",
    "    else:\n",
    "        return freqs[:cutoff], np.take(ft, range(cutoff), axis=axis)\n",
    "\n",
    "\n",
    "def qesd(s, n=None, fs=1, axis=-1, win=None):\n",
    "    if win is None:\n",
    "        win = np.ones(s.shape[axis])\n",
    "\n",
    "    dims = np.ones(s.ndim, int)\n",
    "    dims[axis] = -1\n",
    "    win = win.reshape(dims)\n",
    "\n",
    "    freqs, ft = qfft(s * win, n=n, fs=fs, full=False, axis=axis)\n",
    "    return freqs, np.abs(ft)**2 * 2 / fs**2\n",
    "\n",
    "\n",
    "fs = 1 / (tsolver.time[1] - tsolver.time[0])\n",
    "x = np.mean(tsolver.displacement, axis=1)\n",
    "freqs, esd = qesd(x, n=None, fs=fs)\n",
    "\n",
    "plt.plot(freqs / 1e6, 10 * np.log10(esd / esd.max()))\n",
    "plt.xlim(0, 50)"
   ]
  },
  {
   "cell_type": "code",
   "execution_count": 6,
   "metadata": {},
   "outputs": [
    {
     "output_type": "execute_result",
     "data": {
      "text/plain": [
       "(0.0, 50.0)"
      ]
     },
     "metadata": {},
     "execution_count": 6
    }
   ],
   "source": [
    "from cnld import database, fem\n",
    "\n",
    "freqs, ppfr = database.read_patch_to_patch_freq_resp('circular_cmut_1mhz_hexagonal.db')\n",
    "\n",
    "fr = np.mean(np.sum(ppfr, axis=0), axis=0)\n",
    "# fr = np.sum(ppfr, axis=0)[8, :]\n",
    "plt.plot(freqs / 1e6, 10 * np.log10(np.abs(fr) / np.abs(fr).max()), '.-')\n",
    "plt.xlim(0, 50)"
   ]
  },
  {
   "cell_type": "code",
   "execution_count": 29,
   "metadata": {},
   "outputs": [
    {
     "output_type": "stream",
     "name": "stdout",
     "text": [
      "  Geometry\n   id: 0\n   thickness: 1e-06\n   shape: 'circle'\n   length_x: None\n   length_y: None\n   radius: 2.6e-05\n   density: 3000\n   y_modulus: 160000000000.0\n   p_ratio: 0.28\n   isol_thickness: 1e-07\n   eps_r: 7.5\n   gap: 3e-07\n   electrode_x: None\n   electrode_y: None\n   electrode_r: 5e-05\n   controldomain_nx: None\n   controldomain_ny: None\n   controldomain_nr: 3\n   controldomain_ntheta: 1\n   damping_mode1: 0\n   damping_mode2: 5\n   damping_freq1: 0\n   damping_freq2: 0\n   damping_ratio1: 0.1\n   damping_ratio2: 0.1\n   contact_k: 13834668468749.998\n   contact_n: 1\n   contact_z0: -3e-07\n   contact_lmda: 0.0\n\n"
     ]
    }
   ],
   "source": [
    "print(geom)"
   ]
  },
  {
   "cell_type": "code",
   "execution_count": null,
   "metadata": {},
   "outputs": [],
   "source": []
  }
 ]
}