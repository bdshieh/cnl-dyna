{
 "cells": [
  {
   "cell_type": "markdown",
   "source": [
    "# Example: Generating the force to displacement database using DatabaseSolver"
   ],
   "metadata": {}
  },
  {
   "cell_type": "markdown",
   "source": [
    "### Import API and other packages"
   ],
   "metadata": {}
  },
  {
   "cell_type": "code",
   "execution_count": 1,
   "source": [
    "import numpy as np\r\n",
    "import scipy as sp\r\n",
    "import scipy.signal\r\n",
    "from tqdm import tqdm\r\n",
    "from matplotlib import pyplot as plt\r\n",
    "\r\n",
    "from cnld.api import *\r\n",
    "from cnld import fem, bem, util"
   ],
   "outputs": [],
   "metadata": {}
  },
  {
   "cell_type": "markdown",
   "source": [
    "### Define the CMUT geometry"
   ],
   "metadata": {}
  },
  {
   "cell_type": "code",
   "execution_count": null,
   "source": [
    "# start with 1 MHz preset geometry\r\n",
    "geom = define.circular_cmut_1mhz_geometry()\r\n",
    "\r\n",
    "# update preset with custom values\r\n",
    "geom.thickness = 1e-6  # membrane thickness\r\n",
    "geom.radius = 32e-6  # membrane radius\r\n",
    "geom.isol_thickness = 100e-9  # thickness of isolation layer\r\n",
    "geom.gap = 500e-9  # gap height\r\n",
    "geom.electrode_r = 32e-6  # electrode radius\r\n",
    "geom.damping_mode1 = 0  # first vibration mode to damp (mode 0 is fundamental mode)\r\n",
    "geom.damping_mode2 = 5  # second vibration mode to damp (mode 5 is the next axisymmetric mode)\r\n",
    "geom.damping_ratio1 = 0.1  # damping ratio of first mode\r\n",
    "geom.damping_ratio2 = 0.1  # damping ratio of second mode\r\n",
    "\r\n",
    "# define control domains (nr = ntheta = 1 lumps entire membrane as a single control domain)\r\n",
    "geom.controldomain_nr = 1  # number of control domain divisions in radial direction\r\n",
    "geom.controldomain_ntheta = 1  # number of control domain divisions in angular direction\r\n",
    "\r\n",
    "# show properties of defined geometry\r\n",
    "print(geom)\r\n",
    "\r\n",
    "# run analysis of geometry to predict modes\r\n",
    "analyze_geometry_modes(geom, refn=9, plot_modes=True)"
   ],
   "outputs": [],
   "metadata": {}
  },
  {
   "cell_type": "markdown",
   "source": [
    "### Define the CMUT array layout and generate grids (mesh)"
   ],
   "metadata": {}
  },
  {
   "cell_type": "code",
   "execution_count": null,
   "source": [
    "# use preset matrix layout\r\n",
    "layout = define.matrix_layout(nx=2, ny=2, pitch_x=74e-6, pitch_y=74e-6)\r\n",
    "\r\n",
    "# add defined geometry\r\n",
    "layout.geometries.append(geom)\r\n",
    "\r\n",
    "# generate control domains automatically\r\n",
    "layout.controldomains = define.generate_controldomainlist(layout)\r\n",
    "\r\n",
    "# generate FEM and BEM grids automatically with a refn = 9 (refinement level)\r\n",
    "grids = grid.generate_grids_from_layout(layout, refn=9)\r\n",
    "\r\n",
    "# plot the BEM grid which will show the layout\r\n",
    "# warning: not advisable for large arrays!\r\n",
    "grids.bem.plot()"
   ],
   "outputs": [],
   "metadata": {}
  },
  {
   "cell_type": "markdown",
   "source": [
    "### Generate the force to displacement database using DatabaseSolver"
   ],
   "metadata": {}
  },
  {
   "cell_type": "code",
   "execution_count": 2,
   "source": [
    "dbsolver = solve.DatabaseSolver()\r\n",
    "dbsolver.file = 'circular_cmut_1mhz_hexagonal.db'\r\n",
    "dbsolver.freq_interp = 4\r\n",
    "dbsolver.overwrite = True\r\n",
    "dbsolver.layout = layout\r\n",
    "dbsolver.grids = grids\r\n",
    "dbsolver.freqs = 0, 20e6, 100e3\r\n",
    "\r\n",
    "dbsolver.solve()"
   ],
   "outputs": [
    {
     "output_type": "stream",
     "name": "stderr",
     "text": [
      "Running: 100%|██████████| 200/200 [1:19:40<00:00, 23.90s/it]\n"
     ]
    }
   ],
   "metadata": {}
  },
  {
   "cell_type": "code",
   "execution_count": 28,
   "source": [
    "from scipy import fftpack\r\n",
    "import scipy as sp\r\n",
    "\r\n",
    "def qfft(s, n=None, fs=1, axis=-1, full=False):\r\n",
    "\r\n",
    "    ndim = s.ndim\r\n",
    "    shape = s.shape\r\n",
    "    nsample = shape[axis]\r\n",
    "\r\n",
    "    if n is None:\r\n",
    "        n = nsample\r\n",
    "\r\n",
    "    if n > nsample:\r\n",
    "        pw = [(0, 0)] * ndim\r\n",
    "        pw[axis] = (0, n - nsample)\r\n",
    "        s = np.pad(s, pw, mode='constant')\r\n",
    "    elif n < nsample:\r\n",
    "        s = np.take(s, range(n), axis=axis)\r\n",
    "\r\n",
    "    ft = sp.fftpack.fft(s, axis=axis)\r\n",
    "    freqs = sp.fftpack.fftfreq(n, 1 / fs)\r\n",
    "\r\n",
    "    cutoff = (n + 1) // 2\r\n",
    "\r\n",
    "    if full:\r\n",
    "        return freqs, ft\r\n",
    "    else:\r\n",
    "        return freqs[:cutoff], np.take(ft, range(cutoff), axis=axis)\r\n",
    "\r\n",
    "\r\n",
    "def qesd(s, n=None, fs=1, axis=-1, win=None):\r\n",
    "    if win is None:\r\n",
    "        win = np.ones(s.shape[axis])\r\n",
    "\r\n",
    "    dims = np.ones(s.ndim, int)\r\n",
    "    dims[axis] = -1\r\n",
    "    win = win.reshape(dims)\r\n",
    "\r\n",
    "    freqs, ft = qfft(s * win, n=n, fs=fs, full=False, axis=axis)\r\n",
    "    return freqs, np.abs(ft)**2 * 2 / fs**2\r\n",
    "\r\n",
    "\r\n",
    "fs = 1 / (tsolver.time[1] - tsolver.time[0])\r\n",
    "x = np.mean(tsolver.displacement, axis=1)\r\n",
    "freqs, esd = qesd(x, n=None, fs=fs)\r\n",
    "\r\n",
    "plt.plot(freqs / 1e6, 10 * np.log10(esd / esd.max()))\r\n",
    "plt.xlim(0, 50)"
   ],
   "outputs": [
    {
     "output_type": "execute_result",
     "data": {
      "text/plain": [
       "(0.0, 50.0)"
      ]
     },
     "metadata": {},
     "execution_count": 28
    }
   ],
   "metadata": {}
  },
  {
   "cell_type": "code",
   "execution_count": 6,
   "source": [
    "from cnld import database, fem\r\n",
    "\r\n",
    "freqs, ppfr = database.read_patch_to_patch_freq_resp('circular_cmut_1mhz_hexagonal.db')\r\n",
    "\r\n",
    "fr = np.mean(np.sum(ppfr, axis=0), axis=0)\r\n",
    "# fr = np.sum(ppfr, axis=0)[8, :]\r\n",
    "plt.plot(freqs / 1e6, 10 * np.log10(np.abs(fr) / np.abs(fr).max()), '.-')\r\n",
    "plt.xlim(0, 50)"
   ],
   "outputs": [
    {
     "output_type": "execute_result",
     "data": {
      "text/plain": [
       "(0.0, 50.0)"
      ]
     },
     "metadata": {},
     "execution_count": 6
    }
   ],
   "metadata": {}
  }
 ],
 "metadata": {
  "interpreter": {
   "hash": "ba7d16a8cab8e79cbf8fe38044cf68703c0f91a5b67988fcedffa40da81520ea"
  },
  "kernelspec": {
   "name": "python3",
   "display_name": "Python 3.7.7 64-bit ('cnld': conda)"
  },
  "language_info": {
   "name": "python",
   "version": "3.7.7"
  },
  "orig_nbformat": 2
 },
 "nbformat": 4,
 "nbformat_minor": 2
}