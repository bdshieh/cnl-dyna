{
 "metadata": {
  "language_info": {
   "codemirror_mode": {
    "name": "ipython",
    "version": 3
   },
   "file_extension": ".py",
   "mimetype": "text/x-python",
   "name": "python",
   "nbconvert_exporter": "python",
   "pygments_lexer": "ipython3",
   "version": "3.7.4-final"
  },
  "orig_nbformat": 2,
  "kernelspec": {
   "name": "python3",
   "display_name": "Python 3",
   "language": "python"
  }
 },
 "nbformat": 4,
 "nbformat_minor": 2,
 "cells": [
  {
   "cell_type": "code",
   "execution_count": null,
   "metadata": {},
   "outputs": [],
   "source": [
    "''''''\n",
    "import numpy as np\n",
    "import scipy as sp\n",
    "import scipy.signal\n",
    "from matplotlib import pyplot as plt\n",
    "from tqdm import tqdm\n",
    "from cnld.api import *\n",
    "from cnld import fem, bem, util, database\n",
    "\n",
    "%matplotlib qt\n",
    "\n",
    "dbfile = 'demo_data/circular_cmut_1mhz_hexagonal_5.db'\n",
    "layfile = 'demo_data/circular_cmut_1mhz_hexagonal_5.json'"
   ]
  },
  {
   "cell_type": "code",
   "execution_count": null,
   "metadata": {},
   "outputs": [],
   "source": [
    "freqs, ppfr = database.read_patch_to_patch_freq_resp(dbfile)\n",
    "\n",
    "fr = np.mean(np.sum(ppfr, axis=0), axis=0)\n",
    "fr *= (2 * np.pi * freqs)**2\n",
    "\n",
    "fig, ax = plt.subplots()\n",
    "ax.plot(freqs / 1e6, 10 * np.log10(np.abs(fr) / np.abs(fr).max()), '.-')\n",
    "ax.xlim(0, 30)"
   ]
  },
  {
   "cell_type": "code",
   "execution_count": null,
   "metadata": {},
   "outputs": [],
   "source": [
    "fs = 40e6\n",
    "_, vdc = define.linear_ramp(2e-6, 1 / fs)\n",
    "vdc *= 30\n",
    "pulse, _ = util.gausspulse(2e6, 0.25, fs=fs)\n",
    "pulse *= 20\n",
    "\n",
    "v = np.concatenate((vdc, 30 * np.ones(300), pulse + 30))\n",
    "# v = np.concatenate((vdc, 30 * np.ones(400)))\n",
    "\n",
    "transmit = define.Transmit()\n",
    "transmit.waveforms.append(define.Waveform(voltage=v))\n",
    "transmit.fs = fs\n",
    "\n",
    "# n = 1\n",
    "# vmax = np.max(v)\n",
    "# e_0 = 8.85418782e-12\n",
    "# pmax = e_0 / 2 * 50**2 / (geom.gap / geom.eps_r)**2 * 2\n",
    "# k = pmax / (10e-9)**n / 100\n",
    "# print(k)\n",
    "# lmda = 3 / 2 * k * 0.0\n",
    "\n",
    "# geom.contact_k = k\n",
    "# geom.contact_n = n\n",
    "# geom.contact_z0 = -geom.gap\n",
    "# geom.contact_lmda = lmda\n",
    "# layout.geometries = define.GeometryList([geom])\n",
    "layout = define.import_layout(layfile)\n",
    "\n",
    "tsolver = solve.TimeSolver()\n",
    "tsolver.layout = layout\n",
    "tsolver.transmit = transmit\n",
    "tsolver.dbfile = dbfile\n",
    "tsolver.times = 0, 20e-6, 4e-9\n",
    "\n",
    "# tsolver.recalculate_fir(interp=4)\n",
    "tsolver.setup()\n",
    "for i in tqdm(tsolver, total=len(tsolver)):\n",
    "    pass"
   ]
  },
  {
   "cell_type": "code",
   "execution_count": null,
   "metadata": {},
   "outputs": [],
   "source": [
    "fig, ax = plt.subplots()\n",
    "ax.plot(np.mean(tsolver.displacement, axis=1))\n",
    "ax.plot(tsolver.displacement[:,0])\n",
    "\n",
    "fig, ax = plt.subplots()\n",
    "ax.plot(tsolver.time, tsolver.voltage)\n",
    "\n",
    "fs = 1 / (tsolver.time[1] - tsolver.time[0])\n",
    "x = np.mean(tsolver.displacement, axis=1)\n",
    "x = x[2000:4000]\n",
    "x -= np.mean(x)\n",
    "xdd = np.gradient(np.gradient(x))\n",
    "\n",
    "win = sp.signal.tukey(len(xdd), 0.1)\n",
    "freqs, esd = util.qesd(xdd, n=None, fs=fs, win=win)\n",
    "\n",
    "fig, ax = plt.subplots()\n",
    "ax.plot(freqs / 1e6, 10 * np.log10(esd / esd.max()))\n",
    "ax.xlim(0, 50);"
   ]
  },
  {
   "cell_type": "code",
   "execution_count": null,
   "metadata": {},
   "outputs": [],
   "source": []
  }
 ]
}