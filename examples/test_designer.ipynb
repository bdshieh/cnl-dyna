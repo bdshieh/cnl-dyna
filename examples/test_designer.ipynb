{
 "metadata": {
  "language_info": {
   "codemirror_mode": {
    "name": "ipython",
    "version": 3
   },
   "file_extension": ".py",
   "mimetype": "text/x-python",
   "name": "python",
   "nbconvert_exporter": "python",
   "pygments_lexer": "ipython3",
   "version": "3.9.2-final"
  },
  "orig_nbformat": 2,
  "kernelspec": {
   "name": "python3",
   "display_name": "Python 3.9.2 64-bit ('cnl-dyna': conda)",
   "metadata": {
    "interpreter": {
     "hash": "d7e500d460a3384bd0ef249cab0644d344bde9b6a7913be4dbbc3dd315d96ff6"
    }
   }
  }
 },
 "nbformat": 4,
 "nbformat_minor": 2,
 "cells": [
  {
   "cell_type": "code",
   "execution_count": 1,
   "metadata": {},
   "outputs": [],
   "source": [
    "''''''\n",
    "import numpy as np\n",
    "from matplotlib import pyplot as plt\n",
    "from cnld.api.define import *\n",
    "from cnld.api import *\n",
    "from cnld import fem, bem, util\n",
    "\n",
    "%matplotlib qt\n",
    "\n",
    "layout = matrix_layout(nx=2, ny=2, pitch_x=100e-6, pitch_y=100e-6)\n",
    "layout.geometries = GeometryList([circular_cmut_1mhz_geometry()])\n",
    "layout.controldomains = generate_controldomainlist(layout)\n",
    "\n",
    "grids = grid.generate_grids_from_layout(layout, refn=7)"
   ]
  },
  {
   "cell_type": "code",
   "execution_count": 6,
   "metadata": {},
   "outputs": [
    {
     "output_type": "stream",
     "name": "stdout",
     "text": [
      "Mode 0 freq: 5279228 Hz\n",
      "Mode 1 freq: 10817804 Hz\n",
      "Mode 2 freq: 10817804 Hz\n",
      "Mode 3 freq: 17069424 Hz\n",
      "Mode 4 freq: 17941269 Hz\n",
      "Mode 5 freq: 20000560 Hz\n",
      "Snap-in voltage: 55 V\n"
     ]
    }
   ],
   "source": [
    "geom = circle_cmut_5mhz_geometry()\n",
    "geom.radius = 26e-6\n",
    "geom.gap = 300e-9\n",
    "geom.isol_thickness = 100e-9\n",
    "analyze_geometry(geom, refn=9, plot_modes=True)"
   ]
  },
  {
   "cell_type": "code",
   "execution_count": null,
   "metadata": {},
   "outputs": [],
   "source": []
  }
 ]
}