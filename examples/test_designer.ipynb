{
 "metadata": {
  "language_info": {
   "codemirror_mode": {
    "name": "ipython",
    "version": 3
   },
   "file_extension": ".py",
   "mimetype": "text/x-python",
   "name": "python",
   "nbconvert_exporter": "python",
   "pygments_lexer": "ipython3",
   "version": "3.9.2-final"
  },
  "orig_nbformat": 2,
  "kernelspec": {
   "name": "python3",
   "display_name": "Python 3.9.2 64-bit ('cnl-dyna': conda)",
   "metadata": {
    "interpreter": {
     "hash": "d7e500d460a3384bd0ef249cab0644d344bde9b6a7913be4dbbc3dd315d96ff6"
    }
   }
  }
 },
 "nbformat": 4,
 "nbformat_minor": 2,
 "cells": [
  {
   "cell_type": "code",
   "execution_count": 1,
   "metadata": {},
   "outputs": [],
   "source": [
    "''''''\n",
    "import numpy as np\n",
    "from matplotlib import pyplot as plt\n",
    "from cnld.api.define import *\n",
    "from cnld.api import grid, solve\n",
    "from cnld import fem, bem, util\n",
    "\n",
    "%matplotlib qt\n",
    "\n",
    "layout = matrix_layout(nx=2, ny=2, pitch_x=100e-6, pitch_y=100e-6)\n",
    "layout.geometries = circle_cmut_1mhz_geometry()\n",
    "layout.controldomains = generate_controldomainlist(layout)\n",
    "\n",
    "grids = grid.generate_grids_from_layout(layout, refn=7)\n"
   ]
  },
  {
   "cell_type": "code",
   "execution_count": 13,
   "metadata": {},
   "outputs": [
    {
     "output_type": "execute_result",
     "data": {
      "text/plain": [
       "array([ 5850627.32045643,  5993718.37794583,  6009078.74775602,\n",
       "        7911827.58115154, 11349861.99163219])"
      ]
     },
     "metadata": {},
     "execution_count": 13
    }
   ],
   "source": [
    "geom = layout.geometries[0]\n",
    "\n",
    "eigf, eigv = fem.geom_eig(grids.fem[0], geom)\n",
    "\n",
    "eigf[:5]"
   ]
  },
  {
   "cell_type": "code",
   "execution_count": null,
   "metadata": {},
   "outputs": [],
   "source": []
  }
 ]
}