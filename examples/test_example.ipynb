{
 "metadata": {
  "language_info": {
   "codemirror_mode": {
    "name": "ipython",
    "version": 3
   },
   "file_extension": ".py",
   "mimetype": "text/x-python",
   "name": "python",
   "nbconvert_exporter": "python",
   "pygments_lexer": "ipython3",
   "version": "3.7.9"
  },
  "orig_nbformat": 2,
  "kernelspec": {
   "name": "python3",
   "display_name": "Python 3.7.9 64-bit ('cnl-dyna': conda)",
   "metadata": {
    "interpreter": {
     "hash": "16a9361fb3bc1b1010b0554e5cb696cf5d0fdc7db5c18b8ea9ff06edd049f9d5"
    }
   }
  }
 },
 "nbformat": 4,
 "nbformat_minor": 2,
 "cells": [
  {
   "cell_type": "code",
   "execution_count": 1,
   "metadata": {},
   "outputs": [],
   "source": [
    "''''''\n",
    "import numpy as np\n",
    "from matplotlib import pyplot as plt\n",
    "from cnld.api.define import *\n",
    "from cnld.api import grid, solve\n",
    "from cnld import fem, bem, util\n",
    "\n",
    "%matplotlib qt\n",
    "\n",
    "layout = matrix_layout(nx=2, ny=2, pitch_x=100e-6, pitch_y=100e-6)\n",
    "layout.geometries = circle_cmut_1mhz_geometry()\n",
    "# layout.elements = ElementList([Element(membrane_ids=[0]), Element(membrane_ids=[1]), Element(membrane_ids=[2]), Element(membrane_ids=[3])])\n",
    "# layout.geometries = square_cmut_1mhz_geometry()\n",
    "layout.controldomains = generate_controldomainlist(layout)\n",
    "\n",
    "grids = grid.generate_grids_from_layout(layout, refn=7)\n",
    "\n",
    "pulse, t = util.gausspulse(1e6, 0.25, fs=250e6)\n",
    "transmit = Transmit(waveforms=WaveformList([Waveform(voltage=pulse)]), fs=250e6)\n",
    "# tx = define.Transmit()\n",
    "# tx.focus = 0.03\n",
    "# tx.delays = define.generate_delays(tx, lay)\n",
    "\n",
    "# tsolve = solve.TimeSolver()"
   ]
  },
  {
   "cell_type": "code",
   "execution_count": 2,
   "metadata": {},
   "outputs": [],
   "source": [
    "# dbsolver = solve.DatabaseSolver('mydb.db', layout, grids, (0, 1e6, 1e4), overwrite=True)\n",
    "# dbsolver.solve()"
   ]
  },
  {
   "cell_type": "code",
   "execution_count": 3,
   "metadata": {},
   "outputs": [],
   "source": [
    "layout.geometries[0].contact_k = 1e9\n",
    "layout.geometries[0].contact_n = 2\n",
    "layout.geometries[0].contact_z0 = 50e-9\n",
    "layout.geometries[0].contact_lmda = 1e-3\n",
    "tsolver = solve.TimeSolver(layout, transmit, 'mydb.db', (0, 1e-6, 1e-9))\n",
    "tsolver.setup()"
   ]
  },
  {
   "cell_type": "code",
   "execution_count": 4,
   "metadata": {},
   "outputs": [
    {
     "output_type": "error",
     "ename": "AttributeError",
     "evalue": "'TimeSolver' object has no attribute '_solver'",
     "traceback": [
      "\u001b[0;31m---------------------------------------------------------------------------\u001b[0m",
      "\u001b[0;31mAttributeError\u001b[0m                            Traceback (most recent call last)",
      "\u001b[0;32m<ipython-input-4-9a955ad757da>\u001b[0m in \u001b[0;36m<module>\u001b[0;34m\u001b[0m\n\u001b[0;32m----> 1\u001b[0;31m \u001b[0;32mfor\u001b[0m \u001b[0mt\u001b[0m \u001b[0;32min\u001b[0m \u001b[0mtsolver\u001b[0m\u001b[0;34m:\u001b[0m\u001b[0;34m\u001b[0m\u001b[0;34m\u001b[0m\u001b[0m\n\u001b[0m\u001b[1;32m      2\u001b[0m     \u001b[0;32mpass\u001b[0m\u001b[0;34m\u001b[0m\u001b[0;34m\u001b[0m\u001b[0m\n",
      "\u001b[0;32m~/anaconda/envs/cnl-dyna/lib/python3.7/site-packages/cnld/api/solve/_time_solver.py\u001b[0m in \u001b[0;36m__iter__\u001b[0;34m(self)\u001b[0m\n\u001b[1;32m    220\u001b[0m \u001b[0;34m\u001b[0m\u001b[0m\n\u001b[1;32m    221\u001b[0m     \u001b[0;32mdef\u001b[0m \u001b[0m__iter__\u001b[0m\u001b[0;34m(\u001b[0m\u001b[0mself\u001b[0m\u001b[0;34m)\u001b[0m\u001b[0;34m:\u001b[0m\u001b[0;34m\u001b[0m\u001b[0;34m\u001b[0m\u001b[0m\n\u001b[0;32m--> 222\u001b[0;31m         \u001b[0;32mreturn\u001b[0m \u001b[0mself\u001b[0m\u001b[0;34m.\u001b[0m\u001b[0m_solver\u001b[0m\u001b[0;34m.\u001b[0m\u001b[0m__iter__\u001b[0m\u001b[0;34m\u001b[0m\u001b[0;34m\u001b[0m\u001b[0m\n\u001b[0m\u001b[1;32m    223\u001b[0m \u001b[0;34m\u001b[0m\u001b[0m\n\u001b[1;32m    224\u001b[0m     \u001b[0;32mdef\u001b[0m \u001b[0m__next__\u001b[0m\u001b[0;34m(\u001b[0m\u001b[0mself\u001b[0m\u001b[0;34m)\u001b[0m\u001b[0;34m:\u001b[0m\u001b[0;34m\u001b[0m\u001b[0;34m\u001b[0m\u001b[0m\n",
      "\u001b[0;31mAttributeError\u001b[0m: 'TimeSolver' object has no attribute '_solver'"
     ]
    }
   ],
   "source": [
    "for t in tsolver:\n",
    "    pass"
   ]
  },
  {
   "cell_type": "code",
   "execution_count": 15,
   "metadata": {},
   "outputs": [
    {
     "output_type": "execute_result",
     "data": {
      "text/plain": [
       "[<matplotlib.lines.Line2D at 0x7f42b1fc4cd0>,\n",
       " <matplotlib.lines.Line2D at 0x7f42b2048310>,\n",
       " <matplotlib.lines.Line2D at 0x7f42b1fc4fd0>,\n",
       " <matplotlib.lines.Line2D at 0x7f42b1fcd250>,\n",
       " <matplotlib.lines.Line2D at 0x7f42b1fcd490>,\n",
       " <matplotlib.lines.Line2D at 0x7f42b1fcd850>,\n",
       " <matplotlib.lines.Line2D at 0x7f42b1fcda90>,\n",
       " <matplotlib.lines.Line2D at 0x7f42b1fcdcd0>,\n",
       " <matplotlib.lines.Line2D at 0x7f42b1fcdf10>,\n",
       " <matplotlib.lines.Line2D at 0x7f42b1fcd790>,\n",
       " <matplotlib.lines.Line2D at 0x7f42b213df10>,\n",
       " <matplotlib.lines.Line2D at 0x7f42b1fd53d0>,\n",
       " <matplotlib.lines.Line2D at 0x7f42b1fd5610>,\n",
       " <matplotlib.lines.Line2D at 0x7f42b1fd5850>,\n",
       " <matplotlib.lines.Line2D at 0x7f42b1fd5a90>,\n",
       " <matplotlib.lines.Line2D at 0x7f42b1fd5cd0>,\n",
       " <matplotlib.lines.Line2D at 0x7f42b1fd5f10>,\n",
       " <matplotlib.lines.Line2D at 0x7f42b1fde190>,\n",
       " <matplotlib.lines.Line2D at 0x7f42b1fde3d0>,\n",
       " <matplotlib.lines.Line2D at 0x7f42b1fde610>,\n",
       " <matplotlib.lines.Line2D at 0x7f42b1fde850>,\n",
       " <matplotlib.lines.Line2D at 0x7f42b1fdea90>,\n",
       " <matplotlib.lines.Line2D at 0x7f42b1fdecd0>,\n",
       " <matplotlib.lines.Line2D at 0x7f42b1fdef10>,\n",
       " <matplotlib.lines.Line2D at 0x7f42b1fe8190>,\n",
       " <matplotlib.lines.Line2D at 0x7f42b1fe83d0>,\n",
       " <matplotlib.lines.Line2D at 0x7f42b1fe8610>,\n",
       " <matplotlib.lines.Line2D at 0x7f42b1fe8850>,\n",
       " <matplotlib.lines.Line2D at 0x7f42b1fe8a90>,\n",
       " <matplotlib.lines.Line2D at 0x7f42b1fe8cd0>,\n",
       " <matplotlib.lines.Line2D at 0x7f42b1fe8f10>,\n",
       " <matplotlib.lines.Line2D at 0x7f42b1ff0190>,\n",
       " <matplotlib.lines.Line2D at 0x7f42b1ff03d0>,\n",
       " <matplotlib.lines.Line2D at 0x7f42b1ff0610>,\n",
       " <matplotlib.lines.Line2D at 0x7f42b1ff0850>,\n",
       " <matplotlib.lines.Line2D at 0x7f42b1ff0a90>,\n",
       " <matplotlib.lines.Line2D at 0x7f42b1ff0cd0>,\n",
       " <matplotlib.lines.Line2D at 0x7f42b1ff0f10>,\n",
       " <matplotlib.lines.Line2D at 0x7f42b1ff9190>,\n",
       " <matplotlib.lines.Line2D at 0x7f42b1ff93d0>,\n",
       " <matplotlib.lines.Line2D at 0x7f42b1ff9610>,\n",
       " <matplotlib.lines.Line2D at 0x7f42b1ff9850>,\n",
       " <matplotlib.lines.Line2D at 0x7f42b1ff9a90>,\n",
       " <matplotlib.lines.Line2D at 0x7f42b1ff9cd0>,\n",
       " <matplotlib.lines.Line2D at 0x7f42b1ff9f10>,\n",
       " <matplotlib.lines.Line2D at 0x7f42b1f81190>,\n",
       " <matplotlib.lines.Line2D at 0x7f42b1f813d0>,\n",
       " <matplotlib.lines.Line2D at 0x7f42b1f81610>]"
      ]
     },
     "metadata": {},
     "execution_count": 15
    }
   ],
   "source": [
    "fir = tsolver._fir\n",
    "\n",
    "plt.plot(fir[0,:, :].T)"
   ]
  },
  {
   "cell_type": "code",
   "execution_count": null,
   "metadata": {},
   "outputs": [],
   "source": []
  }
 ]
}