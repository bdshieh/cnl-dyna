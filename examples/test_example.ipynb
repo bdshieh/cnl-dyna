{
 "metadata": {
  "language_info": {
   "codemirror_mode": {
    "name": "ipython",
    "version": 3
   },
   "file_extension": ".py",
   "mimetype": "text/x-python",
   "name": "python",
   "nbconvert_exporter": "python",
   "pygments_lexer": "ipython3",
   "version": "3.7.9"
  },
  "orig_nbformat": 2,
  "kernelspec": {
   "name": "python3",
   "display_name": "Python 3.7.9 64-bit ('cnl-dyna': conda)",
   "metadata": {
    "interpreter": {
     "hash": "16a9361fb3bc1b1010b0554e5cb696cf5d0fdc7db5c18b8ea9ff06edd049f9d5"
    }
   }
  }
 },
 "nbformat": 4,
 "nbformat_minor": 2,
 "cells": [
  {
   "cell_type": "code",
   "execution_count": 1,
   "metadata": {},
   "outputs": [],
   "source": [
    "''''''\n",
    "import numpy as np\n",
    "from matplotlib import pyplot as plt\n",
    "from cnld.api.define import *\n",
    "\n",
    "lay = matrix_layout(nx=2, ny=2, pitch_x=100e-6, pitch_y=100e-6)\n",
    "lay.geometries = circle_cmut_1mhz_geometry()\n",
    "lay.controldomains = generate_controldomainlist(lay, lay.geometries)\n",
    "\n",
    "# tx = define.Transmit()\n",
    "# tx.focus = 0.03\n",
    "# tx.delays = define.generate_delays(tx, lay)\n",
    "# grid = grid.generate_grids(lay, geom, refn=9)\n",
    "\n",
    "# dbsolve = solve.DatabaseSolver('mydb.db', lay, geom, grid)\n",
    "# dbsolve.layout = lay\n",
    "# dbsolve.geometry = geom\n",
    "# dbsolve.grid = grid\n",
    "# dbsolve.file = 'mydb.db'\n",
    "# dbsolve.solve()\n",
    "\n",
    "# tsolve = solve.TimeSolver()\n"
   ]
  },
  {
   "cell_type": "code",
   "execution_count": 2,
   "metadata": {},
   "outputs": [],
   "source": [
    "from cnld import fem"
   ]
  },
  {
   "cell_type": "code",
   "execution_count": 3,
   "metadata": {},
   "outputs": [
    {
     "output_type": "execute_result",
     "data": {
      "text/plain": [
       "['__builtins__',\n",
       " '__cached__',\n",
       " '__doc__',\n",
       " '__file__',\n",
       " '__loader__',\n",
       " '__name__',\n",
       " '__package__',\n",
       " '__path__',\n",
       " '__spec__',\n",
       " '_damping',\n",
       " '_lhs',\n",
       " '_mass',\n",
       " '_rhs',\n",
       " '_stiffness',\n",
       " 'avg_cd_mat_np',\n",
       " 'avg_cd_mat_sps_from_layout',\n",
       " 'b_eig_mat_np',\n",
       " 'b_mat_np',\n",
       " 'k_mat_np',\n",
       " 'm_mat_np',\n",
       " 'mbk_mat_spm_from_layout',\n",
       " 'mbk_mat_sps_from_layout',\n",
       " 'p_arb_vec_np',\n",
       " 'p_cd_mat_np',\n",
       " 'p_cd_mat_sps_from_layout',\n",
       " 'p_vec_np']"
      ]
     },
     "metadata": {},
     "execution_count": 3
    }
   ],
   "source": [
    "dir(fem)"
   ]
  },
  {
   "cell_type": "code",
   "execution_count": null,
   "metadata": {},
   "outputs": [],
   "source": []
  }
 ]
}