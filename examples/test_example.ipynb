{
 "metadata": {
  "language_info": {
   "codemirror_mode": {
    "name": "ipython",
    "version": 3
   },
   "file_extension": ".py",
   "mimetype": "text/x-python",
   "name": "python",
   "nbconvert_exporter": "python",
   "pygments_lexer": "ipython3",
   "version": "3.7.9-final"
  },
  "orig_nbformat": 2,
  "kernelspec": {
   "name": "python3",
   "display_name": "Python 3.7.9 64-bit ('cnl-dyna': conda)",
   "metadata": {
    "interpreter": {
     "hash": "16a9361fb3bc1b1010b0554e5cb696cf5d0fdc7db5c18b8ea9ff06edd049f9d5"
    }
   }
  }
 },
 "nbformat": 4,
 "nbformat_minor": 2,
 "cells": [
  {
   "cell_type": "code",
   "execution_count": 28,
   "metadata": {},
   "outputs": [
    {
     "output_type": "stream",
     "name": "stdout",
     "text": [
      "ElementList\n[<Element(id=0) with 3 items>,\n <Element(id=1) with 3 items>,\n <Element(id=2) with 3 items>,\n <Element(id=3) with 3 items>]\n\n"
     ]
    }
   ],
   "source": [
    "''''''\n",
    "import numpy as np\n",
    "from matplotlib import pyplot as plt\n",
    "from cnld.api.define import *\n",
    "from cnld.api import grid, solve\n",
    "from cnld import fem, bem\n",
    "\n",
    "%matplotlib qt\n",
    "\n",
    "layout = matrix_layout(nx=2, ny=2, pitch_x=100e-6, pitch_y=100e-6)\n",
    "layout.geometries = circle_cmut_1mhz_geometry()\n",
    "layout.elements = ElementList([Element(membrane_ids=[0]), Element(membrane_ids=[1]), Element(membrane_ids=[2]), Element(membrane_ids=[3])])\n",
    "# layout.geometries = square_cmut_1mhz_geometry()\n",
    "layout.controldomains = generate_controldomainlist(layout)\n",
    "\n",
    "grids = grid.generate_grids_from_layout(layout, refn=7)\n",
    "# tx = define.Transmit()\n",
    "# tx.focus = 0.03\n",
    "# tx.delays = define.generate_delays(tx, lay)\n",
    "# grid = grid.generate_grids(lay, geom, refn=9)\n",
    "\n",
    "# dbsolve = solve.DatabaseSolver('mydb.db', lay, geom, grid)\n",
    "# dbsolve.layout = lay\n",
    "# dbsolve.geometry = geom\n",
    "# dbsolve.grid = grid\n",
    "# dbsolve.file = 'mydb.db'\n",
    "# dbsolve.solve()\n",
    "\n",
    "# tsolve = solve.TimeSolver()\n"
   ]
  },
  {
   "cell_type": "code",
   "execution_count": 2,
   "metadata": {},
   "outputs": [],
   "source": [
    "# dbsolver = solve.DatabaseSolver('mydb.db', layout, grids, (0, 1e6, 1e4), overwrite=True)\n",
    "# dbsolver.solve()"
   ]
  },
  {
   "cell_type": "code",
   "execution_count": 18,
   "metadata": {},
   "outputs": [
    {
     "output_type": "stream",
     "name": "stdout",
     "text": [
      "  ControlDomain\n   id: 36\n   membrane_id: 3\n   element_id: None\n   position: [5e-05, 5e-05, 0.0]\n   shape: 'circle'\n   length_x: None\n   length_y: None\n   radius_min: 0.0\n   radius_max: 1.1666666666666666e-05\n   theta_min: -3.141592653589793\n   theta_max: -1.5707963267948966\n   area: 1.0690141668465267e-10\n\n"
     ]
    }
   ],
   "source": [
    "print(layout.controldomains[36])"
   ]
  },
  {
   "cell_type": "code",
   "execution_count": null,
   "metadata": {},
   "outputs": [],
   "source": []
  }
 ]
}