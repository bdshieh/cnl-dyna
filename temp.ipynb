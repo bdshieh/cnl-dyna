{
 "cells": [
  {
   "cell_type": "code",
   "execution_count": 1,
   "metadata": {},
   "outputs": [
    {
     "output_type": "error",
     "ename": "AttributeError",
     "evalue": "'list' object has no attribute 'shape'",
     "traceback": [
      "\u001b[1;31m---------------------------------------------------------------------------\u001b[0m",
      "\u001b[1;31mAttributeError\u001b[0m                            Traceback (most recent call last)",
      "\u001b[1;32m<ipython-input-1-77761360bf0a>\u001b[0m in \u001b[0;36m<module>\u001b[1;34m\u001b[0m\n\u001b[0;32m      8\u001b[0m \u001b[0mgeom2\u001b[0m \u001b[1;33m=\u001b[0m \u001b[0mgeometry\u001b[0m\u001b[1;33m.\u001b[0m\u001b[0msquare_cmut_1mhz_geometry\u001b[0m\u001b[1;33m(\u001b[0m\u001b[1;33m)\u001b[0m\u001b[1;33m\u001b[0m\u001b[1;33m\u001b[0m\u001b[0m\n\u001b[0;32m      9\u001b[0m \u001b[0mgeom\u001b[0m \u001b[1;33m=\u001b[0m \u001b[0mgeom1\u001b[0m \u001b[1;33m+\u001b[0m \u001b[0mgeom2\u001b[0m\u001b[1;33m\u001b[0m\u001b[1;33m\u001b[0m\u001b[0m\n\u001b[1;32m---> 10\u001b[1;33m \u001b[0mcdom\u001b[0m \u001b[1;33m=\u001b[0m \u001b[0mcontroldomain\u001b[0m\u001b[1;33m.\u001b[0m\u001b[0mautogenerate_control_domain\u001b[0m\u001b[1;33m(\u001b[0m\u001b[0mlay\u001b[0m\u001b[1;33m,\u001b[0m \u001b[0mgeom\u001b[0m\u001b[1;33m,\u001b[0m \u001b[0mmapping\u001b[0m\u001b[1;33m=\u001b[0m\u001b[1;33m[\u001b[0m\u001b[1;36m0\u001b[0m\u001b[1;33m,\u001b[0m \u001b[1;36m0\u001b[0m\u001b[1;33m,\u001b[0m \u001b[1;36m0\u001b[0m\u001b[1;33m,\u001b[0m \u001b[1;36m0\u001b[0m\u001b[1;33m]\u001b[0m\u001b[1;33m)\u001b[0m\u001b[1;33m\u001b[0m\u001b[1;33m\u001b[0m\u001b[0m\n\u001b[0m",
      "\u001b[1;32md:\\Projects\\cnl-dyna\\cnld\\api\\controldomain.py\u001b[0m in \u001b[0;36mautogenerate_control_domain\u001b[1;34m(layout, geometry, nx, ny, nr, ntheta, mapping)\u001b[0m\n\u001b[0;32m    114\u001b[0m         \u001b[0mg\u001b[0m \u001b[1;33m=\u001b[0m \u001b[0mgeometry\u001b[0m\u001b[1;33m[\u001b[0m\u001b[0mmapping\u001b[0m\u001b[1;33m[\u001b[0m\u001b[0mi\u001b[0m\u001b[1;33m]\u001b[0m\u001b[1;33m]\u001b[0m\u001b[1;33m\u001b[0m\u001b[1;33m\u001b[0m\u001b[0m\n\u001b[0;32m    115\u001b[0m \u001b[1;33m\u001b[0m\u001b[0m\n\u001b[1;32m--> 116\u001b[1;33m         \u001b[1;32mif\u001b[0m \u001b[0mg\u001b[0m\u001b[1;33m.\u001b[0m\u001b[0mshape\u001b[0m \u001b[1;33m==\u001b[0m \u001b[1;34m'square'\u001b[0m\u001b[1;33m:\u001b[0m\u001b[1;33m\u001b[0m\u001b[1;33m\u001b[0m\u001b[0m\n\u001b[0m\u001b[0;32m    117\u001b[0m             \u001b[0mpitchx\u001b[0m \u001b[1;33m=\u001b[0m \u001b[0mg\u001b[0m\u001b[1;33m.\u001b[0m\u001b[0mlengthx\u001b[0m \u001b[1;33m/\u001b[0m \u001b[0mnx\u001b[0m\u001b[1;33m\u001b[0m\u001b[1;33m\u001b[0m\u001b[0m\n\u001b[0;32m    118\u001b[0m             \u001b[0mpitchy\u001b[0m \u001b[1;33m=\u001b[0m \u001b[0mg\u001b[0m\u001b[1;33m.\u001b[0m\u001b[0mlengthy\u001b[0m \u001b[1;33m/\u001b[0m \u001b[0mny\u001b[0m\u001b[1;33m\u001b[0m\u001b[1;33m\u001b[0m\u001b[0m\n",
      "\u001b[1;31mAttributeError\u001b[0m: 'list' object has no attribute 'shape'"
     ]
    }
   ],
   "source": [
    "import numpy as np\n",
    "from matplotlib import pyplot as plt\n",
    "from cnld.api import layout, geometry, transmit\n",
    "\n",
    "lay = layout.matrix_layout(2, 2, 100e-6, 100e-6)\n",
    "\n",
    "geom1 = geometry.circle_cmut_1mhz_geometry()\n",
    "geom2 = geometry.square_cmut_1mhz_geometry()\n",
    "geom = geom1 + geom2\n"
   ]
  },
  {
   "cell_type": "code",
   "execution_count": 2,
   "metadata": {},
   "outputs": [
    {
     "output_type": "error",
     "ename": "NameError",
     "evalue": "name 'cdom' is not defined",
     "traceback": [
      "\u001b[1;31m---------------------------------------------------------------------------\u001b[0m",
      "\u001b[1;31mNameError\u001b[0m                                 Traceback (most recent call last)",
      "\u001b[1;32m<ipython-input-2-17f09f3d85ec>\u001b[0m in \u001b[0;36m<module>\u001b[1;34m\u001b[0m\n\u001b[1;32m----> 1\u001b[1;33m \u001b[0mplt\u001b[0m\u001b[1;33m.\u001b[0m\u001b[0mplot\u001b[0m\u001b[1;33m(\u001b[0m\u001b[0mnp\u001b[0m\u001b[1;33m.\u001b[0m\u001b[0marray\u001b[0m\u001b[1;33m(\u001b[0m\u001b[0mcdom\u001b[0m\u001b[1;33m.\u001b[0m\u001b[0mcenter\u001b[0m\u001b[1;33m)\u001b[0m\u001b[1;33m[\u001b[0m\u001b[1;33m:\u001b[0m\u001b[1;33m,\u001b[0m \u001b[1;36m0\u001b[0m\u001b[1;33m]\u001b[0m\u001b[1;33m,\u001b[0m \u001b[0mnp\u001b[0m\u001b[1;33m.\u001b[0m\u001b[0marray\u001b[0m\u001b[1;33m(\u001b[0m\u001b[0mcdom\u001b[0m\u001b[1;33m.\u001b[0m\u001b[0mcenter\u001b[0m\u001b[1;33m)\u001b[0m\u001b[1;33m[\u001b[0m\u001b[1;33m:\u001b[0m\u001b[1;33m,\u001b[0m \u001b[1;36m1\u001b[0m\u001b[1;33m]\u001b[0m\u001b[1;33m,\u001b[0m \u001b[1;34m'.'\u001b[0m\u001b[1;33m)\u001b[0m\u001b[1;33m\u001b[0m\u001b[1;33m\u001b[0m\u001b[0m\n\u001b[0m\u001b[0;32m      2\u001b[0m \u001b[0mplt\u001b[0m\u001b[1;33m.\u001b[0m\u001b[0mgca\u001b[0m\u001b[1;33m(\u001b[0m\u001b[1;33m)\u001b[0m\u001b[1;33m.\u001b[0m\u001b[0mset_aspect\u001b[0m\u001b[1;33m(\u001b[0m\u001b[1;34m'equal'\u001b[0m\u001b[1;33m)\u001b[0m\u001b[1;33m\u001b[0m\u001b[1;33m\u001b[0m\u001b[0m\n",
      "\u001b[1;31mNameError\u001b[0m: name 'cdom' is not defined"
     ]
    }
   ],
   "source": [
    "\n",
    "\n",
    "plt.plot(np.array(cdom.center)[:, 0], np.array(cdom.center)[:, 1], '.')\n",
    "plt.gca().set_aspect('equal')\n"
   ]
  },
  {
   "cell_type": "code",
   "execution_count": 10,
   "metadata": {},
   "outputs": [
    {
     "output_type": "execute_result",
     "data": {
      "text/plain": "GeomData(id=[GeomData(id=0, thickness=1e-06, shape='circle', lengthx=None, lengthy=None, radius=3.5e-05, rho=2040, ymod=110000000000.0, prat=0.2, isol_thickness=1e-07, eps_r=1.2, gap=5e-08, electrode_x=3.5e-05, electrode_y=3.5e-05, electrode_r=None), GeomData(id=0, thickness=1e-06, shape='square', lengthx=3.5e-05, lengthy=3.5e-05, radius=None, rho=2040, ymod=110000000000.0, prat=0.2, isol_thickness=1e-07, eps_r=1.2, gap=5e-08, electrode_x=3.5e-05, electrode_y=3.5e-05, electrode_r=None)], thickness=None, shape=None, lengthx=None, lengthy=None, radius=None, rho=None, ymod=None, prat=None, isol_thickness=None, eps_r=None, gap=None, electrode_x=None, electrode_y=None, electrode_r=None)"
     },
     "metadata": {},
     "execution_count": 10
    }
   ],
   "source": [
    "geom"
   ]
  },
  {
   "cell_type": "code",
   "execution_count": 11,
   "metadata": {},
   "outputs": [
    {
     "output_type": "execute_result",
     "data": {
      "text/plain": "0"
     },
     "metadata": {},
     "execution_count": 11
    }
   ],
   "source": [
    "a = dict()\n"
   ]
  },
  {
   "cell_type": "code",
   "execution_count": null,
   "metadata": {},
   "outputs": [],
   "source": []
  }
 ],
 "metadata": {
  "kernelspec": {
   "display_name": "Python 3.7.7 64-bit ('cnld': conda)",
   "language": "python",
   "name": "python_defaultSpec_1596281682106"
  },
  "language_info": {
   "codemirror_mode": {
    "name": "ipython",
    "version": 3
   },
   "file_extension": ".py",
   "mimetype": "text/x-python",
   "name": "python",
   "nbconvert_exporter": "python",
   "pygments_lexer": "ipython3",
   "version": "3.7.7-final"
  }
 },
 "nbformat": 4,
 "nbformat_minor": 4
}