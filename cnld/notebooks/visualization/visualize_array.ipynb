{
 "cells": [
  {
   "cell_type": "code",
   "execution_count": 61,
   "metadata": {},
   "outputs": [],
   "source": [
    "file = '../../../hex_array.json'"
   ]
  },
  {
   "cell_type": "code",
   "execution_count": 1,
   "metadata": {},
   "outputs": [
    {
     "ename": "NameError",
     "evalue": "name 'file' is not defined",
     "output_type": "error",
     "traceback": [
      "\u001b[0;31m---------------------------------------------------------------------------\u001b[0m",
      "\u001b[0;31mNameError\u001b[0m                                 Traceback (most recent call last)",
      "\u001b[0;32m<ipython-input-1-991d544280b3>\u001b[0m in \u001b[0;36m<module>\u001b[0;34m\u001b[0m\n\u001b[1;32m      5\u001b[0m \u001b[0;32mfrom\u001b[0m \u001b[0mcnld\u001b[0m \u001b[0;32mimport\u001b[0m \u001b[0mabstract\u001b[0m\u001b[0;34m\u001b[0m\u001b[0;34m\u001b[0m\u001b[0m\n\u001b[1;32m      6\u001b[0m \u001b[0;34m\u001b[0m\u001b[0m\n\u001b[0;32m----> 7\u001b[0;31m \u001b[0marray\u001b[0m \u001b[0;34m=\u001b[0m \u001b[0mabstract\u001b[0m\u001b[0;34m.\u001b[0m\u001b[0mload\u001b[0m\u001b[0;34m(\u001b[0m\u001b[0mfile\u001b[0m\u001b[0;34m)\u001b[0m\u001b[0;34m\u001b[0m\u001b[0;34m\u001b[0m\u001b[0m\n\u001b[0m\u001b[1;32m      8\u001b[0m \u001b[0;34m\u001b[0m\u001b[0m\n\u001b[1;32m      9\u001b[0m \u001b[0mfig\u001b[0m\u001b[0;34m,\u001b[0m \u001b[0max\u001b[0m \u001b[0;34m=\u001b[0m \u001b[0mplt\u001b[0m\u001b[0;34m.\u001b[0m\u001b[0msubplots\u001b[0m\u001b[0;34m(\u001b[0m\u001b[0mfigsize\u001b[0m\u001b[0;34m=\u001b[0m\u001b[0;34m(\u001b[0m\u001b[0;36m9\u001b[0m\u001b[0;34m,\u001b[0m\u001b[0;36m9\u001b[0m\u001b[0;34m)\u001b[0m\u001b[0;34m)\u001b[0m\u001b[0;34m\u001b[0m\u001b[0;34m\u001b[0m\u001b[0m\n",
      "\u001b[0;31mNameError\u001b[0m: name 'file' is not defined"
     ]
    }
   ],
   "source": [
    "import numpy as np\n",
    "from matplotlib import pyplot as plt\n",
    "from matplotlib import patches\n",
    "\n",
    "from cnld import abstract\n",
    "\n",
    "array = abstract.load(file)\n",
    "\n",
    "fig, ax = plt.subplots(figsize=(9,9))\n",
    "\n",
    "for elem in array.elements:\n",
    "    for mem in elem.membranes:\n",
    "        if mem.shape.lower() in ['circle', 'circular', 'c']:\n",
    "            patch = patches.Circle(radius=mem.radius, xy=(mem.position[0], mem.position[1]), ec='black', fill=False)\n",
    "        elif mem.shape.lower() in ['square', 's']:\n",
    "            patch = patches.Rectangle(width=mem.length_x, height=mem.length_y, xy=(mem.position[0], mem.position[1]), \n",
    "                                      ec='black', fill=False)\n",
    "        ax.add_patch(patch)\n",
    "        \n",
    "ax.set_aspect('equal')\n",
    "ax.autoscale()\n",
    "ax.set_xlabel('X (m)')\n",
    "ax.set_ylabel('Y (m)')\n",
    "ax.set_title('Array membrane geometry')\n",
    "\n",
    "fig, ax = plt.subplots(figsize=(9,9))\n",
    "\n",
    "for elem in array.elements:\n",
    "    for mem in elem.membranes:\n",
    "        for pat in mem.patches:\n",
    "            if mem.shape.lower() in ['circle', 'circular', 'c']:\n",
    "       \n",
    "                arc1 = patches.Arc(width=2*pat.radius_max, height=2*pat.radius_max, xy=(pat.position[0], pat.position[1]),\n",
    "                               angle=0, theta1=np.rad2deg(pat.theta_min), theta2=np.rad2deg(pat.theta_max), \n",
    "                                ec='black', lw=1)\n",
    "                ax.add_patch(arc1)\n",
    "                \n",
    "                x0 = pat.position[0] + pat.radius_min * np.cos(pat.theta_min)\n",
    "                y0 = pat.position[1] + pat.radius_min * np.sin(pat.theta_min)\n",
    "                x1 = pat.position[0] + pat.radius_max * np.cos(pat.theta_min)\n",
    "                y1 = pat.position[1] + pat.radius_max * np.sin(pat.theta_min)\n",
    "                line0 = plt.Line2D([x0, x1], [y0, y1], c='black', lw=1)\n",
    "                ax.add_artist(line0)\n",
    "            \n",
    "            elif mem.shape.lower() in ['square', 's']:\n",
    "                \n",
    "                patch = patches.Rectangle(width=pat.length_x, height=pat.length_y, xy=(pat.position[0], pat.position[1]), \n",
    "                                          ec='black', fill=False)\n",
    "                ax.add_patch(patch)\n",
    "\n",
    "ax.set_aspect('equal')\n",
    "ax.autoscale()\n",
    "ax.set_xlabel('X (m)')\n",
    "ax.set_ylabel('Y (m)')\n",
    "ax.set_title('Array patch geometry');"
   ]
  },
  {
   "cell_type": "code",
   "execution_count": null,
   "metadata": {},
   "outputs": [],
   "source": []
  }
 ],
 "metadata": {
  "kernelspec": {
   "display_name": "Python 3",
   "language": "python",
   "name": "python3"
  },
  "language_info": {
   "codemirror_mode": {
    "name": "ipython",
    "version": 3
   },
   "file_extension": ".py",
   "mimetype": "text/x-python",
   "name": "python",
   "nbconvert_exporter": "python",
   "pygments_lexer": "ipython3",
   "version": "3.7.4"
  }
 },
 "nbformat": 4,
 "nbformat_minor": 4
}
